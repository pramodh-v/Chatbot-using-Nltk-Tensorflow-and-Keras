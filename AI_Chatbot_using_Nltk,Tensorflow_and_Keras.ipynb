{
  "nbformat": 4,
  "nbformat_minor": 0,
  "metadata": {
    "colab": {
      "name": "AI Chatbot using Nltk,Tensorflow and Keras.ipynb",
      "provenance": [],
      "authorship_tag": "ABX9TyPZsF5V56mxCNuMHvbpN6vd"
    },
    "kernelspec": {
      "name": "python3",
      "display_name": "Python 3"
    },
    "language_info": {
      "name": "python"
    },
    "accelerator": "GPU"
  },
  "cells": [
    {
      "cell_type": "code",
      "metadata": {
        "id": "JBI0-JoUSz1r",
        "colab": {
          "base_uri": "https://localhost:8080/"
        },
        "outputId": "f73e6ac8-957d-49d9-fcce-99d524a48a4b"
      },
      "source": [
        "import nltk\n",
        "nltk.download('punkt')\n",
        "from nltk.stem.lancaster import LancasterStemmer\n",
        "import numpy as np\n",
        "import json"
      ],
      "execution_count": 1,
      "outputs": [
        {
          "output_type": "stream",
          "text": [
            "[nltk_data] Downloading package punkt to /root/nltk_data...\n",
            "[nltk_data]   Package punkt is already up-to-date!\n"
          ],
          "name": "stdout"
        }
      ]
    },
    {
      "cell_type": "code",
      "metadata": {
        "colab": {
          "base_uri": "https://localhost:8080/"
        },
        "id": "XBhN6N6m2vKV",
        "outputId": "f4b84da8-f09b-41ed-db61-6426548225c2"
      },
      "source": [
        "pip install keras_tuner"
      ],
      "execution_count": 2,
      "outputs": [
        {
          "output_type": "stream",
          "text": [
            "Requirement already satisfied: keras_tuner in /usr/local/lib/python3.7/dist-packages (1.0.3)\n",
            "Requirement already satisfied: kt-legacy in /usr/local/lib/python3.7/dist-packages (from keras_tuner) (1.0.3)\n",
            "Requirement already satisfied: scipy in /usr/local/lib/python3.7/dist-packages (from keras_tuner) (1.4.1)\n",
            "Requirement already satisfied: ipython in /usr/local/lib/python3.7/dist-packages (from keras_tuner) (5.5.0)\n",
            "Requirement already satisfied: packaging in /usr/local/lib/python3.7/dist-packages (from keras_tuner) (20.9)\n",
            "Requirement already satisfied: tensorboard in /usr/local/lib/python3.7/dist-packages (from keras_tuner) (2.5.0)\n",
            "Requirement already satisfied: numpy in /usr/local/lib/python3.7/dist-packages (from keras_tuner) (1.19.5)\n",
            "Requirement already satisfied: requests in /usr/local/lib/python3.7/dist-packages (from keras_tuner) (2.23.0)\n",
            "Requirement already satisfied: prompt-toolkit<2.0.0,>=1.0.4 in /usr/local/lib/python3.7/dist-packages (from ipython->keras_tuner) (1.0.18)\n",
            "Requirement already satisfied: pickleshare in /usr/local/lib/python3.7/dist-packages (from ipython->keras_tuner) (0.7.5)\n",
            "Requirement already satisfied: decorator in /usr/local/lib/python3.7/dist-packages (from ipython->keras_tuner) (4.4.2)\n",
            "Requirement already satisfied: simplegeneric>0.8 in /usr/local/lib/python3.7/dist-packages (from ipython->keras_tuner) (0.8.1)\n",
            "Requirement already satisfied: pygments in /usr/local/lib/python3.7/dist-packages (from ipython->keras_tuner) (2.6.1)\n",
            "Requirement already satisfied: traitlets>=4.2 in /usr/local/lib/python3.7/dist-packages (from ipython->keras_tuner) (5.0.5)\n",
            "Requirement already satisfied: setuptools>=18.5 in /usr/local/lib/python3.7/dist-packages (from ipython->keras_tuner) (57.0.0)\n",
            "Requirement already satisfied: pexpect; sys_platform != \"win32\" in /usr/local/lib/python3.7/dist-packages (from ipython->keras_tuner) (4.8.0)\n",
            "Requirement already satisfied: pyparsing>=2.0.2 in /usr/local/lib/python3.7/dist-packages (from packaging->keras_tuner) (2.4.7)\n",
            "Requirement already satisfied: google-auth-oauthlib<0.5,>=0.4.1 in /usr/local/lib/python3.7/dist-packages (from tensorboard->keras_tuner) (0.4.4)\n",
            "Requirement already satisfied: markdown>=2.6.8 in /usr/local/lib/python3.7/dist-packages (from tensorboard->keras_tuner) (3.3.4)\n",
            "Requirement already satisfied: tensorboard-plugin-wit>=1.6.0 in /usr/local/lib/python3.7/dist-packages (from tensorboard->keras_tuner) (1.8.0)\n",
            "Requirement already satisfied: google-auth<2,>=1.6.3 in /usr/local/lib/python3.7/dist-packages (from tensorboard->keras_tuner) (1.31.0)\n",
            "Requirement already satisfied: tensorboard-data-server<0.7.0,>=0.6.0 in /usr/local/lib/python3.7/dist-packages (from tensorboard->keras_tuner) (0.6.1)\n",
            "Requirement already satisfied: grpcio>=1.24.3 in /usr/local/lib/python3.7/dist-packages (from tensorboard->keras_tuner) (1.34.1)\n",
            "Requirement already satisfied: absl-py>=0.4 in /usr/local/lib/python3.7/dist-packages (from tensorboard->keras_tuner) (0.12.0)\n",
            "Requirement already satisfied: werkzeug>=0.11.15 in /usr/local/lib/python3.7/dist-packages (from tensorboard->keras_tuner) (1.0.1)\n",
            "Requirement already satisfied: wheel>=0.26; python_version >= \"3\" in /usr/local/lib/python3.7/dist-packages (from tensorboard->keras_tuner) (0.36.2)\n",
            "Requirement already satisfied: protobuf>=3.6.0 in /usr/local/lib/python3.7/dist-packages (from tensorboard->keras_tuner) (3.12.4)\n",
            "Requirement already satisfied: urllib3!=1.25.0,!=1.25.1,<1.26,>=1.21.1 in /usr/local/lib/python3.7/dist-packages (from requests->keras_tuner) (1.24.3)\n",
            "Requirement already satisfied: certifi>=2017.4.17 in /usr/local/lib/python3.7/dist-packages (from requests->keras_tuner) (2021.5.30)\n",
            "Requirement already satisfied: idna<3,>=2.5 in /usr/local/lib/python3.7/dist-packages (from requests->keras_tuner) (2.10)\n",
            "Requirement already satisfied: chardet<4,>=3.0.2 in /usr/local/lib/python3.7/dist-packages (from requests->keras_tuner) (3.0.4)\n",
            "Requirement already satisfied: six>=1.9.0 in /usr/local/lib/python3.7/dist-packages (from prompt-toolkit<2.0.0,>=1.0.4->ipython->keras_tuner) (1.15.0)\n",
            "Requirement already satisfied: wcwidth in /usr/local/lib/python3.7/dist-packages (from prompt-toolkit<2.0.0,>=1.0.4->ipython->keras_tuner) (0.2.5)\n",
            "Requirement already satisfied: ipython-genutils in /usr/local/lib/python3.7/dist-packages (from traitlets>=4.2->ipython->keras_tuner) (0.2.0)\n",
            "Requirement already satisfied: ptyprocess>=0.5 in /usr/local/lib/python3.7/dist-packages (from pexpect; sys_platform != \"win32\"->ipython->keras_tuner) (0.7.0)\n",
            "Requirement already satisfied: requests-oauthlib>=0.7.0 in /usr/local/lib/python3.7/dist-packages (from google-auth-oauthlib<0.5,>=0.4.1->tensorboard->keras_tuner) (1.3.0)\n",
            "Requirement already satisfied: importlib-metadata; python_version < \"3.8\" in /usr/local/lib/python3.7/dist-packages (from markdown>=2.6.8->tensorboard->keras_tuner) (4.5.0)\n",
            "Requirement already satisfied: cachetools<5.0,>=2.0.0 in /usr/local/lib/python3.7/dist-packages (from google-auth<2,>=1.6.3->tensorboard->keras_tuner) (4.2.2)\n",
            "Requirement already satisfied: rsa<5,>=3.1.4; python_version >= \"3.6\" in /usr/local/lib/python3.7/dist-packages (from google-auth<2,>=1.6.3->tensorboard->keras_tuner) (4.7.2)\n",
            "Requirement already satisfied: pyasn1-modules>=0.2.1 in /usr/local/lib/python3.7/dist-packages (from google-auth<2,>=1.6.3->tensorboard->keras_tuner) (0.2.8)\n",
            "Requirement already satisfied: oauthlib>=3.0.0 in /usr/local/lib/python3.7/dist-packages (from requests-oauthlib>=0.7.0->google-auth-oauthlib<0.5,>=0.4.1->tensorboard->keras_tuner) (3.1.1)\n",
            "Requirement already satisfied: zipp>=0.5 in /usr/local/lib/python3.7/dist-packages (from importlib-metadata; python_version < \"3.8\"->markdown>=2.6.8->tensorboard->keras_tuner) (3.4.1)\n",
            "Requirement already satisfied: typing-extensions>=3.6.4; python_version < \"3.8\" in /usr/local/lib/python3.7/dist-packages (from importlib-metadata; python_version < \"3.8\"->markdown>=2.6.8->tensorboard->keras_tuner) (3.7.4.3)\n",
            "Requirement already satisfied: pyasn1>=0.1.3 in /usr/local/lib/python3.7/dist-packages (from rsa<5,>=3.1.4; python_version >= \"3.6\"->google-auth<2,>=1.6.3->tensorboard->keras_tuner) (0.4.8)\n"
          ],
          "name": "stdout"
        }
      ]
    },
    {
      "cell_type": "code",
      "metadata": {
        "id": "I_XPqtGLl04I"
      },
      "source": [
        "intents = json.loads(open('/content/sample_data/intents.json').read())"
      ],
      "execution_count": 3,
      "outputs": []
    },
    {
      "cell_type": "code",
      "metadata": {
        "id": "LuxMQ2DbmKRe"
      },
      "source": [
        "words = []\n",
        "classes = []\n",
        "documents = []\n",
        "\n",
        "ignore_chars = ['?',',','!','.']\n",
        "\n",
        "for intent in intents[\"intents\"]:\n",
        "    for pattern in intent[\"patterns\"]:\n",
        "        word = nltk.word_tokenize(pattern)\n",
        "        words.extend(word)\n",
        "        documents.append((word,intent[\"tag\"]))\n",
        "        if intent[\"tag\"] not in classes:\n",
        "            classes.append(intent[\"tag\"])"
      ],
      "execution_count": 4,
      "outputs": []
    },
    {
      "cell_type": "code",
      "metadata": {
        "colab": {
          "base_uri": "https://localhost:8080/"
        },
        "id": "0k5yzhAFmbdL",
        "outputId": "8dc63e81-5089-47c5-e3ae-5257880b8c49"
      },
      "source": [
        "classes"
      ],
      "execution_count": 5,
      "outputs": [
        {
          "output_type": "execute_result",
          "data": {
            "text/plain": [
              "['greet',\n",
              " 'howareyou',\n",
              " 'whoareyou',\n",
              " 'age',\n",
              " 'creator',\n",
              " 'thanks',\n",
              " 'goodbye',\n",
              " 'hours',\n",
              " 'location',\n",
              " 'payments',\n",
              " 'services',\n",
              " 'ordertracking',\n",
              " 'missingid',\n",
              " 'forgotpassword',\n",
              " 'emailid',\n",
              " 'noans',\n",
              " 'addrestaurant',\n",
              " 'foodissues',\n",
              " 'predictdelay',\n",
              " 'Weather',\n",
              " 'booktable',\n",
              " 'createuseracc',\n",
              " 'orderdetails',\n",
              " 'keycustomers',\n",
              " 'bestsellers',\n",
              " 'discount']"
            ]
          },
          "metadata": {
            "tags": []
          },
          "execution_count": 5
        }
      ]
    },
    {
      "cell_type": "code",
      "metadata": {
        "colab": {
          "base_uri": "https://localhost:8080/"
        },
        "id": "IeeZrjptmc8U",
        "outputId": "c6b185fb-5e80-4485-9196-733143b54dcb"
      },
      "source": [
        "documents"
      ],
      "execution_count": 6,
      "outputs": [
        {
          "output_type": "execute_result",
          "data": {
            "text/plain": [
              "[(['Hi', '!'], 'greet'),\n",
              " (['Hello', '!'], 'greet'),\n",
              " (['Good', 'Day'], 'greet'),\n",
              " (['How', 'are', 'you', '?'], 'howareyou'),\n",
              " (['How', 'are', 'you', 'doing', '?'], 'howareyou'),\n",
              " (['How', 'you', 'doin', \"'\"], 'howareyou'),\n",
              " (['Hey', 'Peppy', ',', 'How', 'are', 'You', '?'], 'howareyou'),\n",
              " (['Who', 'are', 'you', '?'], 'whoareyou'),\n",
              " (['What', 'is', 'your', 'name', '?'], 'whoareyou'),\n",
              " (['How', 'old', 'are', 'you', '?'], 'age'),\n",
              " (['What', 'is', 'your', 'age', '?'], 'age'),\n",
              " (['Who', 'created', 'you', '?'], 'creator'),\n",
              " (['Who', 'is', 'your', 'creator', '?'], 'creator'),\n",
              " (['Who', 'made', 'you', '?'], 'creator'),\n",
              " (['Thanks', '!'], 'thanks'),\n",
              " (['Thank', 'You', '!'], 'thanks'),\n",
              " (['Thanks', 'A', 'Lot', '!'], 'thanks'),\n",
              " (['Goodbye', '!'], 'goodbye'),\n",
              " (['See', 'ya', '!'], 'goodbye'),\n",
              " (['Ciao', '!'], 'goodbye'),\n",
              " (['Bye'], 'goodbye'),\n",
              " (['What', 'hours', 'are', 'you', 'open', '?'], 'hours'),\n",
              " (['What', 'are', 'your', 'hours', '?'], 'hours'),\n",
              " (['When', 'are', 'you', 'open', '?'], 'hours'),\n",
              " (['When', 'can', 'I', 'contact', 'you', '?'], 'hours'),\n",
              " (['At', 'what', 'time', 'are', 'you', 'working', 'services', '?'], 'hours'),\n",
              " (['when', 'is', 'the', 'restaurant', 'open', '?'], 'hours'),\n",
              " (['What', 'is', 'your', 'location', '?'], 'location'),\n",
              " (['Where', 'are', 'you', 'located', '?'], 'location'),\n",
              " (['What', 'is', 'your', 'address', '?'], 'location'),\n",
              " (['Where', 'is', 'your', 'company', 'situated', '?'], 'location'),\n",
              " (['How', 'can', 'we', 'contact', 'you', '?'], 'location'),\n",
              " (['How', 'can', 'I', 'contact', 'you', '?'], 'location'),\n",
              " (['Where', 'are', 'you', 'from', '?'], 'location'),\n",
              " (['Do', 'you', 'take', 'credit', 'cards', '?'], 'payments'),\n",
              " (['Do', 'you', 'accept', 'Mastercard', '?'], 'payments'),\n",
              " (['Are', 'you', 'cash', 'only', '?'], 'payments'),\n",
              " (['Which', 'credit', 'cards', 'do', 'you', 'accept', '?'], 'payments'),\n",
              " (['What', 'are', 'your', 'services', '?'], 'services'),\n",
              " (['What', 'can', 'you', 'do', '?'], 'services'),\n",
              " (['What', 'can', 'you', 'provide', 'us', '?'], 'services'),\n",
              " (['How', 'can', 'you', 'help', 'us', '?'], 'services'),\n",
              " (['where', 'is', 'order', 'with', 'id', 'O657', '?'], 'ordertracking'),\n",
              " (['track', 'order', 'O458'], 'ordertracking'),\n",
              " (['Where', 'is', 'my', 'order', 'with', 'id', 'O564', '?'], 'ordertracking'),\n",
              " (['where', 'is', 'the', 'order', '?'], 'missingid'),\n",
              " (['where', 'is', 'my', 'order', '?'], 'missingid'),\n",
              " (['locate', 'the', 'order'], 'missingid'),\n",
              " (['I', 'forgot', 'my', 'Login', 'password', '?'], 'forgotpassword'),\n",
              " (['what', 'to', 'do', 'when', 'someone', 'forgets', 'Login', 'password', '?'],\n",
              "  'forgotpassword'),\n",
              " (['How', 'do', 'I', 'retrieve', 'my', 'login', 'password', '?'],\n",
              "  'forgotpassword'),\n",
              " (['Forgot', 'Password'], 'forgotpassword'),\n",
              " (['yyy', '@', 'gmail.com'], 'emailid'),\n",
              " (['xxx', '@', 'yahoo.com'], 'emailid'),\n",
              " (['why', 'asdgf'], 'noans'),\n",
              " (['how', 'cbxcvb'], 'noans'),\n",
              " (['when', 'rdyujfgh'], 'noans'),\n",
              " (['I', 'pkafdgk'], 'noans'),\n",
              " (['you', 'adfasdfb'], 'noans'),\n",
              " (['How', 'to', 'add', 'a', 'restaurant', '?'], 'addrestaurant'),\n",
              " (['Add', 'restaurant', 'to', 'your', 'company'], 'addrestaurant'),\n",
              " (['Wrong', 'order', 'delivered'], 'foodissues'),\n",
              " (['Food', \"'s\", 'taste', 'is', 'not', 'good', '.'], 'foodissues'),\n",
              " (['Food', 'tastes', 'bad'], 'foodissues'),\n",
              " (['why', 'is', 'order', 'O564', 'delayed'], 'predictdelay'),\n",
              " (['Order', 'O564', 'delayed'], 'predictdelay'),\n",
              " (['what', 'is', 'the', 'weather', 'today', 'in', 'Chennai', '?'], 'Weather'),\n",
              " (['Weather', 'Today', 'in', 'Salem'], 'Weather'),\n",
              " (['I', 'want', 'to', 'book', 'a', 'table'], 'booktable'),\n",
              " (['Book', 'table'], 'booktable'),\n",
              " (['How', 'to', 'book', 'a', 'table', '?'], 'booktable'),\n",
              " (['Create', 'user', 'Account'], 'createuseracc'),\n",
              " (['How', 'to', 'create', 'an', 'user', 'account', '?'], 'createuseracc'),\n",
              " (['I', 'want', 'to', 'create', 'an', 'user', 'account'], 'createuseracc'),\n",
              " (['Please',\n",
              "   'provide',\n",
              "   'the',\n",
              "   'order',\n",
              "   'details',\n",
              "   'of',\n",
              "   'the',\n",
              "   'order',\n",
              "   'O635'],\n",
              "  'orderdetails'),\n",
              " (['Order', 'Details', 'O124'], 'orderdetails'),\n",
              " (['O589', 'details'], 'orderdetails'),\n",
              " (['Our', 'Target', 'customers'], 'keycustomers'),\n",
              " (['who', 'are', 'your', 'key', 'customers'], 'keycustomers'),\n",
              " (['What', 'is', 'the', 'best', 'selling', 'item', 'today', '?'],\n",
              "  'bestsellers'),\n",
              " (['Bestseller', 'today'], 'bestsellers'),\n",
              " (['Bestselling', 'item', 'today'], 'bestsellers'),\n",
              " (['Is', 'there', 'an', 'discounts', 'on', 'any', 'products', '?'],\n",
              "  'discount'),\n",
              " (['Discounts', '?'], 'discount')]"
            ]
          },
          "metadata": {
            "tags": []
          },
          "execution_count": 6
        }
      ]
    },
    {
      "cell_type": "code",
      "metadata": {
        "id": "gWvj-Kqsme2B"
      },
      "source": [
        "stemmer = LancasterStemmer()\n",
        "words = [stemmer.stem(word.lower()) for word in words if word not in ignore_chars]\n",
        "words = sorted(list(set(words)))\n",
        "classes = sorted(list(set(classes)))"
      ],
      "execution_count": 7,
      "outputs": []
    },
    {
      "cell_type": "code",
      "metadata": {
        "colab": {
          "base_uri": "https://localhost:8080/"
        },
        "id": "CLfvwWzQmgUX",
        "outputId": "b1d627eb-3c3e-433c-aec1-94b2fdada8d1"
      },
      "source": [
        "classes"
      ],
      "execution_count": 8,
      "outputs": [
        {
          "output_type": "execute_result",
          "data": {
            "text/plain": [
              "['Weather',\n",
              " 'addrestaurant',\n",
              " 'age',\n",
              " 'bestsellers',\n",
              " 'booktable',\n",
              " 'createuseracc',\n",
              " 'creator',\n",
              " 'discount',\n",
              " 'emailid',\n",
              " 'foodissues',\n",
              " 'forgotpassword',\n",
              " 'goodbye',\n",
              " 'greet',\n",
              " 'hours',\n",
              " 'howareyou',\n",
              " 'keycustomers',\n",
              " 'location',\n",
              " 'missingid',\n",
              " 'noans',\n",
              " 'orderdetails',\n",
              " 'ordertracking',\n",
              " 'payments',\n",
              " 'predictdelay',\n",
              " 'services',\n",
              " 'thanks',\n",
              " 'whoareyou']"
            ]
          },
          "metadata": {
            "tags": []
          },
          "execution_count": 8
        }
      ]
    },
    {
      "cell_type": "code",
      "metadata": {
        "colab": {
          "base_uri": "https://localhost:8080/"
        },
        "id": "3A5IOcY4miGN",
        "outputId": "5e386723-299c-4fb3-9b96-0def14d203b4"
      },
      "source": [
        "import random\n",
        "training_data = []\n",
        "output_empty = [0] * len(classes)\n",
        "for doc in documents:\n",
        "  bagofwords = []\n",
        "  word_patterns = doc[0]\n",
        "  word_patterns = [stemmer.stem(word.lower()) for word in word_patterns]\n",
        "  for word in words:\n",
        "    bagofwords.append(1) if word in word_patterns else bagofwords.append(0)\n",
        "    output_row = list(output_empty)\n",
        "    output_row[classes.index(doc[1])] = 1\n",
        "    training_data.append([bagofwords, output_row])\n",
        "    random.shuffle(training_data)\n",
        "training_data = np.array(training_data)\n",
        "train_x = list(training_data[:,0])\n",
        "train_y = list(training_data[:,1])"
      ],
      "execution_count": 9,
      "outputs": [
        {
          "output_type": "stream",
          "text": [
            "/usr/local/lib/python3.7/dist-packages/ipykernel_launcher.py:14: VisibleDeprecationWarning: Creating an ndarray from ragged nested sequences (which is a list-or-tuple of lists-or-tuples-or ndarrays with different lengths or shapes) is deprecated. If you meant to do this, you must specify 'dtype=object' when creating the ndarray\n",
            "  \n"
          ],
          "name": "stderr"
        }
      ]
    },
    {
      "cell_type": "code",
      "metadata": {
        "colab": {
          "base_uri": "https://localhost:8080/"
        },
        "id": "G0qcgE2Ok1GC",
        "outputId": "8f650b10-8545-44b0-f6df-2f4d9e8ebc6e"
      },
      "source": [
        "training_data"
      ],
      "execution_count": 10,
      "outputs": [
        {
          "output_type": "execute_result",
          "data": {
            "text/plain": [
              "array([[list([0, 0, 0, 0, 0, 0, 0, 0, 0, 0, 0, 0, 0, 0, 0, 0, 0, 0, 0, 0, 0, 0, 0, 0, 0, 0, 0, 0, 0, 0, 0, 0, 0, 0, 0, 0, 0, 0, 0, 0, 0, 1, 0, 0, 0, 0, 0, 0, 0, 0, 0, 0, 1, 0, 0, 0, 0, 0, 0, 1, 0, 0, 0, 1, 0, 0, 0, 0, 0, 0, 0, 0, 0, 0, 0, 0, 0, 0, 1, 0, 0, 0, 0, 0, 0, 0, 0, 0, 0, 0, 0, 0, 0, 0, 0, 0, 0, 0, 0, 0, 0, 0, 0, 0, 0, 0, 0, 0, 0, 0, 0, 0, 0, 0, 0, 0, 0, 0, 0, 0, 0, 0, 0]),\n",
              "        list([0, 0, 0, 0, 0, 0, 0, 0, 0, 0, 1, 0, 0, 0, 0, 0, 0, 0, 0, 0, 0, 0, 0, 0, 0, 0])],\n",
              "       [list([0, 0, 0, 0, 0, 0, 0, 0, 0, 0, 0, 0, 0, 0, 0, 0, 0, 0, 0, 0, 0, 0, 0, 0, 0, 0, 0, 0, 0, 0, 0, 0, 0, 0, 0, 0, 0, 0, 0, 0, 0, 0, 0, 0, 0, 0, 0, 0, 0, 0, 0, 0, 0, 0, 0, 1, 0, 0, 0, 0, 0, 0, 0, 0, 1, 0, 0, 0, 0, 0, 0, 0, 0, 0, 0, 0, 0, 0, 0, 0, 0, 0, 0, 0, 0, 0, 0, 0, 0, 0, 0, 0, 0, 0, 0, 0, 0, 0, 0, 0, 0, 0, 0, 0, 0, 0, 0, 0, 1, 0, 0, 0, 0, 0, 0, 0, 0, 0, 0, 0, 1, 0, 0]),\n",
              "        list([0, 0, 0, 0, 0, 0, 0, 0, 0, 0, 0, 0, 0, 0, 0, 0, 0, 0, 0, 0, 0, 0, 0, 0, 0, 1])],\n",
              "       [list([0, 0, 0, 0, 0, 0, 0, 0, 0, 0, 0, 0, 0, 0, 0, 0, 0, 0, 0, 0, 0, 0, 0, 0, 0, 0, 0, 0, 0, 0, 0, 0, 0, 0, 0, 0, 0, 0, 0, 0, 0, 0, 0, 0, 0, 0, 0, 0, 0, 0, 0, 0, 0, 1, 0, 1, 0, 0, 0, 0, 0, 0, 0, 1, 0, 0, 0, 0, 1, 0, 0, 0, 0, 0, 0, 0, 1, 0, 0, 0, 0, 0, 0, 0, 0, 0, 0, 0, 0, 0, 0, 0, 0, 0, 0, 0, 0, 0, 0, 0, 0, 0, 0, 0, 0, 0, 0, 0, 0, 0, 1, 0, 0, 0, 1, 0, 0, 0, 0, 0, 0, 0, 0]),\n",
              "        list([0, 0, 0, 0, 0, 0, 0, 0, 0, 0, 0, 0, 0, 0, 0, 0, 0, 0, 0, 0, 1, 0, 0, 0, 0, 0])],\n",
              "       ...,\n",
              "       [list([0, 0, 0, 0, 0, 0, 0, 0, 0, 0, 0, 0, 0, 0, 0, 0, 0, 0, 0, 0, 1, 0, 0, 0, 0, 0, 0, 0, 0, 0, 0, 0, 0, 0, 0, 0, 1, 0, 0, 0, 0, 0, 0, 0, 0, 0, 0, 0, 0, 0, 0, 0, 0, 0, 0, 0, 0, 0, 0, 0, 0, 0, 0, 0, 0, 0, 0, 0, 0, 0, 0, 0, 0, 0, 0, 0, 0, 0, 0, 0, 0, 0, 0, 0, 0, 0, 0, 0, 0, 0, 0, 0, 0, 0, 0, 0, 0, 0, 0, 0, 0, 0, 0, 0, 0, 0, 0, 0, 1, 0, 0, 0, 0, 0, 0, 0, 0, 0, 0, 0, 0, 1, 0]),\n",
              "        list([0, 0, 0, 0, 0, 0, 0, 0, 0, 0, 0, 0, 0, 0, 0, 0, 0, 0, 0, 0, 0, 0, 0, 1, 0, 0])],\n",
              "       [list([0, 0, 0, 0, 0, 0, 0, 0, 0, 0, 0, 0, 0, 0, 0, 0, 0, 0, 0, 0, 0, 0, 0, 0, 0, 0, 0, 0, 0, 0, 0, 0, 1, 0, 0, 0, 0, 0, 0, 0, 0, 0, 0, 0, 0, 0, 0, 0, 0, 0, 0, 0, 0, 0, 0, 0, 0, 0, 0, 0, 0, 0, 0, 0, 0, 0, 0, 0, 0, 0, 0, 0, 0, 0, 0, 0, 1, 0, 0, 0, 0, 0, 0, 0, 0, 0, 0, 0, 0, 0, 0, 0, 0, 0, 0, 0, 0, 0, 0, 0, 0, 0, 0, 0, 0, 0, 0, 0, 0, 0, 0, 0, 0, 0, 0, 0, 1, 0, 0, 0, 0, 0, 0]),\n",
              "        list([0, 0, 0, 0, 0, 0, 0, 0, 0, 1, 0, 0, 0, 0, 0, 0, 0, 0, 0, 0, 0, 0, 0, 0, 0, 0])],\n",
              "       [list([0, 0, 0, 0, 0, 1, 0, 0, 0, 0, 1, 0, 0, 0, 0, 0, 0, 0, 0, 0, 0, 0, 0, 0, 0, 0, 0, 0, 1, 0, 0, 0, 0, 0, 0, 0, 0, 0, 0, 0, 0, 0, 0, 0, 0, 0, 0, 0, 0, 0, 0, 1, 0, 0, 0, 0, 0, 0, 0, 0, 0, 0, 0, 0, 0, 0, 0, 0, 0, 0, 0, 0, 0, 0, 0, 0, 0, 0, 0, 0, 0, 0, 0, 0, 0, 0, 0, 0, 0, 0, 0, 0, 0, 0, 0, 0, 0, 0, 0, 0, 0, 1, 0, 0, 1, 0, 0, 0, 0, 0, 0, 0, 0, 0, 0, 0, 0, 0, 0, 0, 0, 0, 0]),\n",
              "        list([0, 0, 0, 0, 0, 1, 0, 0, 0, 0, 0, 0, 0, 0, 0, 0, 0, 0, 0, 0, 0, 0, 0, 0, 0, 0])]],\n",
              "      dtype=object)"
            ]
          },
          "metadata": {
            "tags": []
          },
          "execution_count": 10
        }
      ]
    },
    {
      "cell_type": "code",
      "metadata": {
        "id": "1WAug64jthdM"
      },
      "source": [
        "from sklearn.model_selection import train_test_split\n",
        "X_train,X_test,y_train,y_test = train_test_split(train_x,train_y,random_state=42,test_size=0.1)"
      ],
      "execution_count": 11,
      "outputs": []
    },
    {
      "cell_type": "code",
      "metadata": {
        "id": "at6DfNQOmpld",
        "colab": {
          "base_uri": "https://localhost:8080/"
        },
        "outputId": "8a7b3082-2c81-42e0-cda8-8693d9579b79"
      },
      "source": [
        "import tensorflow as tf\n",
        "from tensorflow import keras\n",
        "from tensorflow.keras import layers\n",
        "from kerastuner.tuners import RandomSearch\n",
        "\n",
        "def build_model(hp):\n",
        "    model = keras.Sequential()\n",
        "    model.add(layers.Dense(units = hp.Int('unitx',min_value=64,max_value=512,step=32), input_shape=(len(X_train[0]),), activation='relu'))\n",
        "    model.add(layers.Dropout(0.1))\n",
        "    for i in range(hp.Int('num_layers', 2, 20)):\n",
        "        model.add(layers.Dense(units=hp.Int('units_' + str(i),min_value=64,max_value=512,step=32),activation='relu'))\n",
        "        model.add(layers.Dropout(0.1))\n",
        "    model.add(layers.Dense(len(y_train[0]), activation='sigmoid'))\n",
        "    model.compile(\n",
        "        optimizer=keras.optimizers.Adam(\n",
        "            hp.Choice('learning_rate', [1e-2, 1e-3, 1e-4])),\n",
        "        loss='categorical_crossentropy',\n",
        "        metrics=['accuracy'])\n",
        "    return model"
      ],
      "execution_count": 12,
      "outputs": [
        {
          "output_type": "stream",
          "text": [
            "/usr/local/lib/python3.7/dist-packages/ipykernel_launcher.py:4: DeprecationWarning: `import kerastuner` is deprecated, please use `import keras_tuner`.\n",
            "  after removing the cwd from sys.path.\n"
          ],
          "name": "stderr"
        }
      ]
    },
    {
      "cell_type": "code",
      "metadata": {
        "colab": {
          "base_uri": "https://localhost:8080/"
        },
        "id": "jcPPjwmKmrJh",
        "outputId": "066aae13-b569-49d0-cfd4-35eaff0f0b6e"
      },
      "source": [
        "tuner_search = RandomSearch(build_model,objective='accuracy',max_trials=5,executions_per_trial=3,directory='Model1',project_name='Best Chatbot Model')"
      ],
      "execution_count": 13,
      "outputs": [
        {
          "output_type": "stream",
          "text": [
            "INFO:tensorflow:Reloading Oracle from existing project Model1/Best Chatbot Model/oracle.json\n",
            "INFO:tensorflow:Reloading Tuner from Model1/Best Chatbot Model/tuner0.json\n"
          ],
          "name": "stdout"
        }
      ]
    },
    {
      "cell_type": "code",
      "metadata": {
        "colab": {
          "base_uri": "https://localhost:8080/"
        },
        "id": "o7oOR9Bnm-Lk",
        "outputId": "88625e61-3c00-48fb-f7e0-ebff423ff0f3"
      },
      "source": [
        "tuner_search.search(X_train, y_train,epochs=5)"
      ],
      "execution_count": 14,
      "outputs": [
        {
          "output_type": "stream",
          "text": [
            "INFO:tensorflow:Oracle triggered exit\n"
          ],
          "name": "stdout"
        }
      ]
    },
    {
      "cell_type": "code",
      "metadata": {
        "colab": {
          "base_uri": "https://localhost:8080/"
        },
        "id": "WGp6Dg8gheAx",
        "outputId": "89974b81-5c42-4268-b1c7-4f63da2c2987"
      },
      "source": [
        "tuner_search.results_summary()"
      ],
      "execution_count": 15,
      "outputs": [
        {
          "output_type": "stream",
          "text": [
            "Results summary\n",
            "Results in Model1/Best Chatbot Model\n",
            "Showing 10 best trials\n",
            "Objective(name='accuracy', direction='max')\n",
            "Trial summary\n",
            "Hyperparameters:\n",
            "unitx: 352\n",
            "num_layers: 7\n",
            "units_0: 256\n",
            "units_1: 96\n",
            "learning_rate: 0.0001\n",
            "units_2: 192\n",
            "units_3: 128\n",
            "units_4: 352\n",
            "units_5: 224\n",
            "units_6: 192\n",
            "units_7: 352\n",
            "units_8: 224\n",
            "units_9: 384\n",
            "units_10: 192\n",
            "units_11: 352\n",
            "units_12: 416\n",
            "units_13: 96\n",
            "Score: 0.9937570889790853\n",
            "Trial summary\n",
            "Hyperparameters:\n",
            "unitx: 480\n",
            "num_layers: 8\n",
            "units_0: 224\n",
            "units_1: 416\n",
            "learning_rate: 0.0001\n",
            "units_2: 224\n",
            "units_3: 224\n",
            "units_4: 192\n",
            "units_5: 128\n",
            "units_6: 416\n",
            "units_7: 96\n",
            "units_8: 320\n",
            "units_9: 256\n",
            "units_10: 512\n",
            "units_11: 352\n",
            "units_12: 224\n",
            "units_13: 288\n",
            "Score: 0.9904520710309347\n",
            "Trial summary\n",
            "Hyperparameters:\n",
            "unitx: 320\n",
            "num_layers: 6\n",
            "units_0: 480\n",
            "units_1: 160\n",
            "learning_rate: 0.0001\n",
            "units_2: 96\n",
            "units_3: 64\n",
            "units_4: 64\n",
            "units_5: 96\n",
            "units_6: 192\n",
            "units_7: 448\n",
            "units_8: 384\n",
            "units_9: 192\n",
            "units_10: 96\n",
            "units_11: 256\n",
            "units_12: 448\n",
            "units_13: 416\n",
            "Score: 0.9773419896761576\n",
            "Trial summary\n",
            "Hyperparameters:\n",
            "unitx: 256\n",
            "num_layers: 10\n",
            "units_0: 64\n",
            "units_1: 128\n",
            "learning_rate: 0.001\n",
            "units_2: 64\n",
            "units_3: 64\n",
            "units_4: 64\n",
            "units_5: 64\n",
            "units_6: 64\n",
            "units_7: 64\n",
            "units_8: 64\n",
            "units_9: 64\n",
            "Score: 0.9239102602005005\n",
            "Trial summary\n",
            "Hyperparameters:\n",
            "unitx: 160\n",
            "num_layers: 14\n",
            "units_0: 448\n",
            "units_1: 96\n",
            "learning_rate: 0.001\n",
            "units_2: 480\n",
            "units_3: 480\n",
            "units_4: 128\n",
            "units_5: 288\n",
            "units_6: 64\n",
            "units_7: 512\n",
            "units_8: 320\n",
            "units_9: 224\n",
            "units_10: 64\n",
            "units_11: 64\n",
            "units_12: 64\n",
            "units_13: 64\n",
            "Score: 0.6050824522972107\n"
          ],
          "name": "stdout"
        }
      ]
    },
    {
      "cell_type": "code",
      "metadata": {
        "colab": {
          "base_uri": "https://localhost:8080/"
        },
        "id": "83Ry2ANMnCYz",
        "outputId": "353efe35-d949-4ab6-9bac-3fd7cb4e466c"
      },
      "source": [
        "model=tuner_search.get_best_models(num_models=1)[0]\n",
        "history = model.fit(X_train, y_train, epochs=10, initial_epoch=5)"
      ],
      "execution_count": 16,
      "outputs": [
        {
          "output_type": "stream",
          "text": [
            "Epoch 6/10\n",
            "291/291 [==============================] - 3s 5ms/step - loss: 0.0185 - accuracy: 0.9954\n",
            "Epoch 7/10\n",
            "291/291 [==============================] - 1s 5ms/step - loss: 0.0121 - accuracy: 0.9965\n",
            "Epoch 8/10\n",
            "291/291 [==============================] - 1s 5ms/step - loss: 0.0073 - accuracy: 0.9983\n",
            "Epoch 9/10\n",
            "291/291 [==============================] - 1s 5ms/step - loss: 0.0060 - accuracy: 0.9985\n",
            "Epoch 10/10\n",
            "291/291 [==============================] - 1s 5ms/step - loss: 0.0067 - accuracy: 0.9987\n"
          ],
          "name": "stdout"
        }
      ]
    },
    {
      "cell_type": "code",
      "metadata": {
        "colab": {
          "base_uri": "https://localhost:8080/"
        },
        "id": "Sia7Z_dsQPOc",
        "outputId": "d06f1982-b339-4488-e8ed-332333ce8fe8"
      },
      "source": [
        "history.history"
      ],
      "execution_count": 17,
      "outputs": [
        {
          "output_type": "execute_result",
          "data": {
            "text/plain": [
              "{'accuracy': [0.9953753352165222,\n",
              "  0.9964508414268494,\n",
              "  0.9982792139053345,\n",
              "  0.9984943270683289,\n",
              "  0.9987093806266785],\n",
              " 'loss': [0.0185286495834589,\n",
              "  0.012117167003452778,\n",
              "  0.007275959476828575,\n",
              "  0.005957222077995539,\n",
              "  0.006685707252472639]}"
            ]
          },
          "metadata": {
            "tags": []
          },
          "execution_count": 17
        }
      ]
    },
    {
      "cell_type": "code",
      "metadata": {
        "id": "RUD61CgyjqvP",
        "colab": {
          "base_uri": "https://localhost:8080/"
        },
        "outputId": "372e3f28-d4e4-4e3f-8d58-61a1b24f5042"
      },
      "source": [
        "loss,accuracy = model.evaluate(X_test,y_test)"
      ],
      "execution_count": 18,
      "outputs": [
        {
          "output_type": "stream",
          "text": [
            "33/33 [==============================] - 0s 4ms/step - loss: 6.9407e-06 - accuracy: 1.0000\n"
          ],
          "name": "stdout"
        }
      ]
    },
    {
      "cell_type": "code",
      "metadata": {
        "colab": {
          "base_uri": "https://localhost:8080/"
        },
        "id": "KQngLGsHGk4h",
        "outputId": "2d3ff554-6a60-4cda-aa23-528b1a911cc2"
      },
      "source": [
        "model.summary()"
      ],
      "execution_count": 19,
      "outputs": [
        {
          "output_type": "stream",
          "text": [
            "Model: \"sequential\"\n",
            "_________________________________________________________________\n",
            "Layer (type)                 Output Shape              Param #   \n",
            "=================================================================\n",
            "dense (Dense)                (None, 352)               43648     \n",
            "_________________________________________________________________\n",
            "dropout (Dropout)            (None, 352)               0         \n",
            "_________________________________________________________________\n",
            "dense_1 (Dense)              (None, 256)               90368     \n",
            "_________________________________________________________________\n",
            "dropout_1 (Dropout)          (None, 256)               0         \n",
            "_________________________________________________________________\n",
            "dense_2 (Dense)              (None, 96)                24672     \n",
            "_________________________________________________________________\n",
            "dropout_2 (Dropout)          (None, 96)                0         \n",
            "_________________________________________________________________\n",
            "dense_3 (Dense)              (None, 192)               18624     \n",
            "_________________________________________________________________\n",
            "dropout_3 (Dropout)          (None, 192)               0         \n",
            "_________________________________________________________________\n",
            "dense_4 (Dense)              (None, 128)               24704     \n",
            "_________________________________________________________________\n",
            "dropout_4 (Dropout)          (None, 128)               0         \n",
            "_________________________________________________________________\n",
            "dense_5 (Dense)              (None, 352)               45408     \n",
            "_________________________________________________________________\n",
            "dropout_5 (Dropout)          (None, 352)               0         \n",
            "_________________________________________________________________\n",
            "dense_6 (Dense)              (None, 224)               79072     \n",
            "_________________________________________________________________\n",
            "dropout_6 (Dropout)          (None, 224)               0         \n",
            "_________________________________________________________________\n",
            "dense_7 (Dense)              (None, 192)               43200     \n",
            "_________________________________________________________________\n",
            "dropout_7 (Dropout)          (None, 192)               0         \n",
            "_________________________________________________________________\n",
            "dense_8 (Dense)              (None, 26)                5018      \n",
            "=================================================================\n",
            "Total params: 374,714\n",
            "Trainable params: 374,714\n",
            "Non-trainable params: 0\n",
            "_________________________________________________________________\n"
          ],
          "name": "stdout"
        }
      ]
    },
    {
      "cell_type": "code",
      "metadata": {
        "id": "3cmER4w3ZyIM"
      },
      "source": [
        "model.save(filepath='bestmodel.h5')"
      ],
      "execution_count": 20,
      "outputs": []
    },
    {
      "cell_type": "code",
      "metadata": {
        "id": "pw_FDwKUcOeT"
      },
      "source": [
        "import pickle\n",
        "pickle.dump({\"words\":words,\"classes\":classes,\"X_train\":X_train,\"y_train\":y_train},open(\"training_data\",\"wb\"))"
      ],
      "execution_count": 21,
      "outputs": []
    },
    {
      "cell_type": "code",
      "metadata": {
        "id": "j8hxTuyihnS4"
      },
      "source": [
        "def clean_up(sentence):\n",
        "  sentence_ = nltk.word_tokenize(sentence)\n",
        "  sentence_ = [stemmer.stem(word.lower()) for word in sentence_]\n",
        "  return sentence_"
      ],
      "execution_count": 22,
      "outputs": []
    },
    {
      "cell_type": "code",
      "metadata": {
        "id": "eo9xQ8AD8KVN"
      },
      "source": [
        "def bag_of_words(sentence,words):\n",
        "  sentence_ = clean_up(sentence)\n",
        "  bagofwords = [0]*len(words)\n",
        "  for sw in sentence_:\n",
        "    for i,w in enumerate(words):\n",
        "      if w==sw:\n",
        "        bagofwords[i] = 1\n",
        "  return np.array(bagofwords)"
      ],
      "execution_count": 23,
      "outputs": []
    },
    {
      "cell_type": "code",
      "metadata": {
        "id": "CTjxGy-_AOgX"
      },
      "source": [
        "def predict_tag(sentence,words,classes):\n",
        "  bag = bag_of_words(sentence,words)\n",
        "  res = model.predict(np.array([bag]))[0]\n",
        "  threshold = 0.35\n",
        "  result = [[i,r] for i,r in enumerate(res) if r>threshold]\n",
        "  result.sort(key = lambda x:x[1],reverse=True)\n",
        "  tag_list = []\n",
        "  for r in result:\n",
        "    tag_list.append({\"intent\":classes[r[0]],\"prob\":str(r[1])})\n",
        "  return tag_list"
      ],
      "execution_count": 24,
      "outputs": []
    },
    {
      "cell_type": "code",
      "metadata": {
        "id": "GkehjwdiBJmE"
      },
      "source": [
        "def respond(tag_list,intent):\n",
        "  try:\n",
        "    tag = tag_list[0]['intent']\n",
        "    intents_list = intent['intents']\n",
        "    for i in intents_list:\n",
        "      if i['tag']  == tag:\n",
        "        result = random.choice(i['responses'])\n",
        "        break\n",
        "  except IndexError:\n",
        "    result = \"I don't understand!\"\n",
        "  return result"
      ],
      "execution_count": 25,
      "outputs": []
    },
    {
      "cell_type": "code",
      "metadata": {
        "colab": {
          "base_uri": "https://localhost:8080/"
        },
        "id": "3ROLDgVTDeZ9",
        "outputId": "f16a1cfd-da38-4593-8b84-c5f57f8ee348"
      },
      "source": [
        "while(True):\n",
        "  msg = str(input())\n",
        "  if(msg.lower()==\"quit\"):\n",
        "    break\n",
        "  tag_list = predict_tag(msg,words,classes)\n",
        "  response = respond(tag_list,intents)\n",
        "  print(response)"
      ],
      "execution_count": 26,
      "outputs": [
        {
          "output_type": "stream",
          "text": [
            "hi\n",
            "Hey!\n",
            "how are youadf\n",
            "I'm fine! thanks for asking!\n",
            "who are you?\n",
            "My name is Pepper!\n",
            "your age?asdf\n",
            "I'm 19 years old! Thanks for asking.\n",
            "who is your creator\n",
            "I was created by a 19-year-old Engineering Student whose name shall remain unknown.\n",
            "when is the restaurant open\n",
            "Our working hours are 7AM to 11PM every day\n",
            "location\n",
            "We work from Anna Univ,Chennai\n",
            "credit cards?\n",
            "We accept most major credit cards\n",
            "your services??\n",
            "Please enter your email id ,we will send a link on your email\n",
            "track O475\n",
            "The food is ready and is on the Way!\n",
            "locate O112\n",
            "Our company is situated in Anna Univ,Chennai\n",
            "forgot passwaard\n",
            "Please enter your email id ,we will send a link on your email\n",
            "dfd@yahoo.com\n",
            "Password has been sent to the given e-mail id.Please check your email account.If mail is not found in inbox,then check spam.\n",
            "why af;glskfhgs\n",
            "Can't Understand Your Question\n",
            "cafeteria add\n",
            "www.restaurantreg.com\n",
            "Please register in the above website!\n",
            "bad food taste\n",
            "Please enter order number,Restaurant's name and the delivery person. Specifications shall be sent to user soon!.\n",
            "book table please!!\n",
            "Kindly choose your option\n",
            "1. Premium - Rs.1000 per table\n",
            "2. Semi-Premium - Rs.800 per table\n",
            "3. Economic - Rs.600 per table\n",
            "target customers\n",
            "Our target customers are in the range of age 20-40\n",
            "discounts??\n",
            "Idlis - 20% off per set of 4\n",
            "Dosas - 15% off per set of 2\n",
            "bestseller\n",
            "Chappathi with 50% off per set of 2\n",
            "thanks a lotttt\n",
            "It's my pleasure\n",
            "byeeea\n",
            "Ciao! Amigo\n",
            "quit\n"
          ],
          "name": "stdout"
        }
      ]
    },
    {
      "cell_type": "code",
      "metadata": {
        "id": "wRC10hyFS0ph"
      },
      "source": [
        ""
      ],
      "execution_count": 26,
      "outputs": []
    }
  ]
}